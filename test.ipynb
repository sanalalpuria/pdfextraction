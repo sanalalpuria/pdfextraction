{
 "cells": [
  {
   "cell_type": "code",
   "execution_count": 4,
   "id": "c1f8cefd-bf35-469a-b205-c64c082afbb5",
   "metadata": {},
   "outputs": [
    {
     "name": "stdout",
     "output_type": "stream",
     "text": [
      "Requirement already satisfied: PyPDF2 in c:\\users\\administrator\\anaconda3\\lib\\site-packages (3.0.1)\n"
     ]
    }
   ],
   "source": [
    "!pip install PyPDF2"
   ]
  },
  {
   "cell_type": "code",
   "execution_count": 6,
   "id": "9f3e8a7b-68e6-4df0-8e5c-5b7c6c1c314d",
   "metadata": {},
   "outputs": [],
   "source": [
    "import os\n",
    "import requests\n",
    "import PyPDF2\n",
    "from io import BytesIO"
   ]
  },
  {
   "cell_type": "code",
   "execution_count": 20,
   "id": "ebe699b6-f6fb-497b-8324-ee9896595f3d",
   "metadata": {},
   "outputs": [
    {
     "name": "stdout",
     "output_type": "stream",
     "text": [
      "PDF downloaded successfully.\n",
      "Extracted text saved to: C:\\Users\\Administrator\\Desktop\\test\\extracted.txt\n"
     ]
    }
   ],
   "source": [
    "pdf_url = \"https://ontheline.trincoll.edu/images/bookdown/sample-local-pdf.pdf\"  \n",
    "\n",
    "\n",
    "#folder_path = \"C:\\Users\\Administrator\\Desktop\\test\"\n",
    "folder_path = r\"C:\\Users\\Administrator\\Desktop\\test\"\n",
    "\n",
    "text_path = os.path.join(folder_path, \"extracted.txt\")\n",
    "\n",
    "\n",
    "os.makedirs(folder_path, exist_ok=True) #Checking if correct path\n",
    "\n",
    "\n",
    "response = requests.get(pdf_url)\n",
    "if response.status_code == 200:\n",
    "    pdf_file = BytesIO(response.content)  \n",
    "    print(\"PDF downloaded successfully.\")\n",
    "else:\n",
    "    print(f\"Failed to download PDF. Status code: {response.status_code}\")\n",
    "    exit()\n",
    "\n",
    "\n",
    "extracted_text = \"\"\n",
    "reader = PyPDF2.PdfReader(pdf_file)\n",
    "for page in reader.pages:\n",
    "    text = page.extract_text()\n",
    "    if text:\n",
    "        extracted_text += text + \"\\n\"\n",
    "\n",
    "with open(text_path, \"w\", encoding=\"utf-8\") as text_file:\n",
    "    text_file.write(extracted_text)\n",
    "\n",
    "print(f\"Extracted text saved to: {text_path}\")"
   ]
  },
  {
   "cell_type": "code",
   "execution_count": 18,
   "id": "58e70c4e-eb27-4b46-8183-99b705b8ebce",
   "metadata": {},
   "outputs": [
    {
     "name": "stdout",
     "output_type": "stream",
     "text": [
      "Extracted text saved to: C:\\Users\\Administrator\\Desktop\\test\\extracted_pdf.txt\n"
     ]
    }
   ],
   "source": [
    "\n",
    "pdf_path = r\"C:\\Users\\Administrator\\Desktop\\test\\thesis.pdf\"  \n",
    "text_path = r\"C:\\Users\\Administrator\\Desktop\\test\\extracted_pdf.txt\"  \n",
    "\n",
    "\n",
    "if not os.path.exists(pdf_path):\n",
    "    print(f\"Error: File not found at {pdf_path}\")\n",
    "    exit()\n",
    "\n",
    "\n",
    "extracted_text = \"\"\n",
    "with open(pdf_path, \"rb\") as pdf_file:\n",
    "    reader = PyPDF2.PdfReader(pdf_file)\n",
    "    for page in reader.pages:\n",
    "        text = page.extract_text()\n",
    "        if text:\n",
    "            extracted_text += text + \"\\n\"\n",
    "\n",
    "\n",
    "with open(text_path, \"w\", encoding=\"utf-8\") as text_file:\n",
    "    text_file.write(extracted_text)\n",
    "\n",
    "print(f\"Extracted text saved to: {text_path}\")\n"
   ]
  },
  {
   "cell_type": "code",
   "execution_count": null,
   "id": "8fcf37f9-6f64-4dc2-923a-8ed3941d71d0",
   "metadata": {},
   "outputs": [],
   "source": []
  }
 ],
 "metadata": {
  "kernelspec": {
   "display_name": "Python 3 (ipykernel)",
   "language": "python",
   "name": "python3"
  },
  "language_info": {
   "codemirror_mode": {
    "name": "ipython",
    "version": 3
   },
   "file_extension": ".py",
   "mimetype": "text/x-python",
   "name": "python",
   "nbconvert_exporter": "python",
   "pygments_lexer": "ipython3",
   "version": "3.12.7"
  }
 },
 "nbformat": 4,
 "nbformat_minor": 5
}
